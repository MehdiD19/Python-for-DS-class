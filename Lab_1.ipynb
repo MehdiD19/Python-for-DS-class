{
 "cells": [
  {
   "cell_type": "markdown",
   "metadata": {},
   "source": [
    "Strings "
   ]
  },
  {
   "cell_type": "code",
   "execution_count": 1,
   "metadata": {},
   "outputs": [],
   "source": [
    "import string\n",
    "import math"
   ]
  },
  {
   "cell_type": "code",
   "execution_count": 2,
   "metadata": {},
   "outputs": [
    {
     "name": "stdout",
     "output_type": "stream",
     "text": [
      "Every 3rd letter from the 3rd to the 24th: cfilorux\n",
      "Every 2nd letter from the 5th last to the end: vxz\n",
      "Every 2nd letter from the 7th last to the end, in reverse: zxvt\n"
     ]
    }
   ],
   "source": [
    "#Question 1: \n",
    "\n",
    "alphabet = string.ascii_lowercase  #Get all the leters of the alphabet \n",
    "print(\"Every 3rd letter from the 3rd to the 24th:\", alphabet[2:24:3])\n",
    "print(\"Every 2nd letter from the 5th last to the end:\", alphabet[-5::2])\n",
    "print(\"Every 2nd letter from the 7th last to the end, in reverse:\", alphabet[:-8:-2])     \n"
   ]
  },
  {
   "cell_type": "code",
   "execution_count": 3,
   "metadata": {},
   "outputs": [
    {
     "name": "stdout",
     "output_type": "stream",
     "text": [
      "The result is: xhEc datasciEncE for businEss\n"
     ]
    }
   ],
   "source": [
    "#Question 2:\n",
    "\n",
    "variable = \" XHEC DataScience for Business \"\n",
    "#We use lower to make all characters lowercase, then replace the 'e' with 'E' and use strip to remove any leading or trailing whitespaces\n",
    "variable = variable.lower().replace('e', 'E').strip()   \n",
    "print(f\"The result is: {variable}\")"
   ]
  },
  {
   "cell_type": "code",
   "execution_count": 4,
   "metadata": {},
   "outputs": [
    {
     "name": "stdout",
     "output_type": "stream",
     "text": [
      "The result is: 3.141592654\n"
     ]
    }
   ],
   "source": [
    "#Question 3:\n",
    "\n",
    "pi = math.pi      #We use pi in the module math \n",
    "nine_digit_pi = \"%.9f\" % pi    #Take the 9 decimal digits of pi using % \n",
    "print(f\"The result is: {nine_digit_pi}\")\n"
   ]
  },
  {
   "cell_type": "code",
   "execution_count": 5,
   "metadata": {},
   "outputs": [
    {
     "name": "stdout",
     "output_type": "stream",
     "text": [
      "The result is: {'h': 1, 'e': 1, 'l': 3, 'o': 2, ' ': 1, 'w': 1, 'r': 1, 'd': 1, '!': 2}\n"
     ]
    }
   ],
   "source": [
    "#Question 4\n",
    "s = \"HelLo WorLd!!\"\n",
    "s = s.lower()\n",
    "counter_dic = {}\n",
    "\n",
    "#For every letter in s, we check if it exist as a key of the dico, if not we create it and set it value to 1, else we add 1 to the key \n",
    "for letter in s:      \n",
    "    if letter in counter_dic:\n",
    "        counter_dic[letter] += 1\n",
    "    else:\n",
    "        counter_dic[letter] = 1\n",
    "print(f\"The result is: {counter_dic}\")\n",
    "\n",
    "\n"
   ]
  },
  {
   "cell_type": "markdown",
   "metadata": {},
   "source": [
    "Fast computations "
   ]
  },
  {
   "cell_type": "code",
   "execution_count": 6,
   "metadata": {},
   "outputs": [],
   "source": [
    "import numpy as np \n",
    "import time \n",
    "import matplotlib.pyplot as plt"
   ]
  },
  {
   "cell_type": "code",
   "execution_count": 7,
   "metadata": {},
   "outputs": [
    {
     "name": "stdout",
     "output_type": "stream",
     "text": [
      "0.09999999999999432\n",
      "False\n"
     ]
    },
    {
     "data": {
      "text/plain": [
       "True"
      ]
     },
     "execution_count": 7,
     "metadata": {},
     "output_type": "execute_result"
    }
   ],
   "source": [
    "#Question 5:\n",
    "\n",
    "computation = 0.1 + 100 - 100 \n",
    "print(computation)\n",
    "print(computation == 0.1)  #We see that it is False, because floating-point arithmetic in Python can introduce tiny precision errors (Link to Binary)\n",
    "np.allclose(computation, 0.1)  #This print True because the arrays are element-wise equal \n",
    "\n",
    "\n",
    "\n"
   ]
  },
  {
   "cell_type": "code",
   "execution_count": 8,
   "metadata": {},
   "outputs": [
    {
     "name": "stdout",
     "output_type": "stream",
     "text": [
      "List square numbers: [1, 4, 9, 16, 25, 36, 49, 64, 81, 100, 121]\n",
      "Array square number: [  1   4   9  16  25  36  49  64  81 100 121]\n"
     ]
    }
   ],
   "source": [
    "#Question 6:\n",
    "\n",
    "list_square_number = [number * number for number in range (1,12)]\n",
    "print(f\"List square numbers: {list_square_number}\")\n",
    "array_square_number = np.arange(1, 12)**2\n",
    "print(f\"Array square number: {array_square_number}\")\n",
    "\n",
    "#We should use arrays instead of lists because of their implementation in C that make them faster to use "
   ]
  },
  {
   "cell_type": "code",
   "execution_count": 9,
   "metadata": {},
   "outputs": [
    {
     "name": "stdout",
     "output_type": "stream",
     "text": [
      "First array : [ 2  5  8 11 14]\n",
      "\n",
      "Second array : [0.         0.07142857 0.14285714 0.21428571 0.28571429 0.35714286\n",
      " 0.42857143 0.5        0.57142857 0.64285714 0.71428571 0.78571429\n",
      " 0.85714286 0.92857143 1.        ]\n"
     ]
    }
   ],
   "source": [
    "#Question 7:\n",
    "\n",
    "array_1 = np.arange(2,15,3) #Creating an array containing integers from 2 to 14 by step of 3\n",
    "print(f\"First array : {array_1}\\n\")\n",
    "array_2 = np.linspace(0,1,15) #Create an array with 15 equispaced valued from 0 to 1 included\n",
    "print(f\"Second array : {array_2}\")\n"
   ]
  },
  {
   "cell_type": "code",
   "execution_count": 10,
   "metadata": {},
   "outputs": [
    {
     "name": "stdout",
     "output_type": "stream",
     "text": [
      "Result with loop: 3.141593, Time : 4.34 seconds\n",
      "Result with numpy: 3.141593, Time: 0.38 seconds\n",
      "3.51 s ± 1.02 s per loop (mean ± std. dev. of 7 runs, 1 loop each)\n"
     ]
    }
   ],
   "source": [
    "# Question 8:\n",
    "\n",
    "n = 10_000_000  #The large number n \n",
    "\n",
    "#Function to compute the product using a for loop\n",
    "def compute_with_loop(n):   \n",
    "    product = 2 \n",
    "    for i in range(1, n):\n",
    "        product *= (4 * i**2) / (4 * i**2 - 1)\n",
    "    return product\n",
    "\n",
    "# For the for loop function \n",
    "start = time.time()\n",
    "product = compute_with_loop(n)\n",
    "end = time.time()\n",
    "actual_time = end - start\n",
    "print(f\"Result with loop: {product:.6f}, Time : {round(actual_time, 2)} seconds\")\n",
    "\n",
    "# Using numpy \n",
    "start = time.time()\n",
    "k = np.arange(1, n,dtype=\"int64\")\n",
    "result = 2 * np.prod((4 * k**2) / (4 * k**2 - 1))\n",
    "end = time.time()\n",
    "actual_time = end - start\n",
    "print(f\"Result with numpy: {result:.6f}, Time: {round(actual_time, 2)} seconds\")\n",
    "\n",
    "#We see that the numpy version is way faster than the loop version because numpy is implemented in C and is optimized for vectorized operations\n",
    "\n",
    "# Using %timeit to measure the execution time of a loop\n",
    "%timeit compute_with_loop(n)\n",
    "\n",
    "#The %timeit magic command is better than time.time() because it runs the code multiple times and provides an average execution time, which is more reliable\n"
   ]
  },
  {
   "cell_type": "code",
   "execution_count": 11,
   "metadata": {},
   "outputs": [
    {
     "name": "stdout",
     "output_type": "stream",
     "text": [
      "Dot product: 10.0\n",
      "(5,)\n",
      "(5,)\n"
     ]
    }
   ],
   "source": [
    "#Question 9:\n",
    "\n",
    "array1 = np.arange(5)\n",
    "array2 = np.ones(5)\n",
    "\n",
    "# Compute the dot product\n",
    "dot_product = np.dot(array1, array2)\n",
    "\n",
    "print(f\"Dot product: {dot_product}\")\n",
    "\n",
    "array_transpose = array1.T \n",
    "\n",
    "print(array1.shape) #np.arange(5) is array with this shape (5,), it is in one dimension\n",
    "print(array_transpose.shape) #The transpose of the array doesn't change its shape and it doens't change the dimension. It is because it is a 1D array and there is no indexs to swape\n",
    "\n"
   ]
  },
  {
   "cell_type": "code",
   "execution_count": 12,
   "metadata": {},
   "outputs": [
    {
     "name": "stdout",
     "output_type": "stream",
     "text": [
      "Matrix M: \n",
      " [[ 0  1  2  3  4  5]\n",
      " [ 6  7  8  9 10 11]]\n",
      "Sliced M: \n",
      " [[0 3]\n",
      " [6 9]]\n",
      "[[0 0 0]\n",
      " [0 1 2]\n",
      " [0 2 4]\n",
      " [0 3 6]]\n"
     ]
    }
   ],
   "source": [
    "#Question 10:\n",
    " \n",
    "# Reshape\n",
    "M = np.arange(12).reshape(2, 6)        #It reshapes the array to a (2,6) matrix      \n",
    "print(\"Matrix M: \\n\", M)\n",
    "\n",
    "# Slicing \n",
    "sliced_M = M[:, ::3]                   #It is selecting all rows of the matrix and then selecting all the third columns starting from the first one \n",
    "print(\"Sliced M: \\n\", sliced_M)\n",
    "\n",
    "# Broadcasting\n",
    "broadcasted_result = np.arange(3) * np.arange(4)[:, np.newaxis]   #It is multiplying the array [0,1,2] with the array [[0],[1],[2],[3]]\n",
    "print(broadcasted_result)\n"
   ]
  },
  {
   "cell_type": "code",
   "execution_count": 13,
   "metadata": {},
   "outputs": [
    {
     "name": "stdout",
     "output_type": "stream",
     "text": [
      "Matrix M:\n",
      "[[-0.37024748 -0.32899667  0.79737678 -0.37723746 -0.11488384  0.90582443]\n",
      " [ 0.50446879  0.69596022 -0.54484915  0.881193   -0.7751899  -0.21026389]\n",
      " [-0.27748634 -0.56974974  0.70120845 -0.43390947 -0.44306818 -0.11024527]\n",
      " [ 0.51699559  0.14232132 -0.80781957 -0.68068544 -0.72536814 -0.19034788]\n",
      " [-0.27871132 -0.95198531  0.59480677  0.29479462 -0.29582069  0.35753909]]\n",
      "Modified Matrix M:\n",
      "[[ 0.28774587 -0.32899667  1.55185169 -0.37723746 -1.92653271  0.90582443]\n",
      " [-0.88745164  0.69596022 -2.30723515  0.881193   -0.35466211 -0.21026389]\n",
      " [ 0.86201315 -0.56974974  1.5690274  -0.43390947 -0.22257763 -0.11024527]\n",
      " [ 0.23235295  0.14232132  0.5535513  -0.68068544 -0.34467238 -0.19034788]\n",
      " [ 1.6252593  -0.95198531  0.00521754  0.29479462 -1.01089887  0.35753909]]\n"
     ]
    }
   ],
   "source": [
    "#Question 11:\n",
    "\n",
    "#Create a random 5x6 matrix with values between -1 and 1\n",
    "M = np.random.uniform(-1, 1, (5, 6))\n",
    "print(\"Matrix M:\")\n",
    "print(M)\n",
    "\n",
    "#Subtract twice the value of the following column from each even column\n",
    "for i in range(0, M.shape[1], 2):\n",
    "    if i + 1 < M.shape[1]: \n",
    "        M[:, i] -= 2 * M[:, i + 1]\n",
    "\n",
    "print(\"Modified Matrix M:\")\n",
    "print(M)"
   ]
  },
  {
   "cell_type": "code",
   "execution_count": 14,
   "metadata": {},
   "outputs": [
    {
     "name": "stdout",
     "output_type": "stream",
     "text": [
      "\n",
      "Matrix M after replacing negative values with 0\n",
      "[[0.28774587 0.         1.55185169 0.         0.         0.90582443]\n",
      " [0.         0.69596022 0.         0.881193   0.         0.        ]\n",
      " [0.86201315 0.         1.5690274  0.         0.         0.        ]\n",
      " [0.23235295 0.14232132 0.5535513  0.         0.         0.        ]\n",
      " [1.6252593  0.         0.00521754 0.29479462 0.         0.35753909]]\n",
      "\n",
      "Mean of each row:\n",
      "[0.45757033 0.26285887 0.40517343 0.15470426 0.38046842]\n",
      "\n",
      "Matrix M after subtracting the mean of each row:\n",
      "[[-0.16982446 -0.45757033  1.09428136 -0.45757033 -0.45757033  0.4482541 ]\n",
      " [-0.26285887  0.43310135 -0.26285887  0.61833413 -0.26285887 -0.26285887]\n",
      " [ 0.45683973 -0.40517343  1.16385398 -0.40517343 -0.40517343 -0.40517343]\n",
      " [ 0.07764868 -0.01238294  0.39884704 -0.15470426 -0.15470426 -0.15470426]\n",
      " [ 1.24479087 -0.38046842 -0.37525089 -0.0856738  -0.38046842 -0.02292933]]\n"
     ]
    }
   ],
   "source": [
    "#Question 12:\n",
    "\n",
    "M[M < 0] = 0\n",
    "print(\"\\nMatrix M after replacing negative values with 0\")\n",
    "print(M)\n",
    "\n",
    "row_means = np.mean(M, axis=1)\n",
    "print(\"\\nMean of each row:\")\n",
    "print(row_means)\n",
    "\n",
    "M = M - row_means[:, np.newaxis]\n",
    "print(\"\\nMatrix M after subtracting the mean of each row:\")\n",
    "print(M)\n",
    "\n"
   ]
  },
  {
   "cell_type": "code",
   "execution_count": 15,
   "metadata": {},
   "outputs": [
    {
     "name": "stdout",
     "output_type": "stream",
     "text": [
      "Is G symmetric: True\n",
      "Is G positive semi-definite: True\n",
      "Are eigenvalues strictly positive: True\n",
      "Rank of G: 5\n",
      "Euclidean norm of G: 9.719287432118065\n",
      "Operator norm of G: 7.772029582642321\n",
      "Standard deviation of each column of G: [0.84376218 2.00962178 1.60057737 1.36176037 1.42024346]\n"
     ]
    }
   ],
   "source": [
    "#Question 13:\n",
    "\n",
    "M = np.random.rand(5, 10) * 2 - 1\n",
    "G = M @ M.T\n",
    "\n",
    "is_symmetric = np.allclose(G, G.T)\n",
    "print(\"Is G symmetric:\", is_symmetric)\n",
    "\n",
    "eigenvalues = np.linalg.eigvals(G)\n",
    "is_positive_semi_definite = np.all(eigenvalues >= 0)\n",
    "print(\"Is G positive semi-definite:\", is_positive_semi_definite)\n",
    "\n",
    "are_eigenvalues_strictly_positive = np.all(eigenvalues > 0)\n",
    "print(\"Are eigenvalues strictly positive:\", are_eigenvalues_strictly_positive)\n",
    "\n",
    "rank = np.linalg.matrix_rank(G)\n",
    "print(\"Rank of G:\", rank)\n",
    "\n",
    "euclidean_norm = np.linalg.norm(G, 'fro')\n",
    "print(\"Euclidean norm of G:\", euclidean_norm)\n",
    "\n",
    "operator_norm = np.linalg.norm(G, 2)\n",
    "print(\"Operator norm of G:\", operator_norm)\n",
    "\n",
    "column_std_devs = np.std(G, axis=0)\n",
    "print(\"Standard deviation of each column of G:\", column_std_devs)"
   ]
  },
  {
   "cell_type": "code",
   "execution_count": 16,
   "metadata": {},
   "outputs": [
    {
     "data": {
      "image/png": "[encoded data removed]",
      "text/plain": [
       "<Figure size 1000x600 with 1 Axes>"
      ]
     },
     "metadata": {},
     "output_type": "display_data"
    }
   ],
   "source": [
    "#Question 14:\n",
    "\n",
    "x = np.linspace(-1, 2, 300)\n",
    "degrees = [2, 3, 4]\n",
    "\n",
    "#We do this to not repeat the same code for each degree\n",
    "plt.figure(figsize = (10, 6))                     \n",
    "for d in degrees:\n",
    "    y = x**d\n",
    "    plt.plot(x, y, label=f'd = {d}')\n",
    "\n",
    "plt.xlabel('x')\n",
    "plt.ylabel('x^d')\n",
    "plt.title('Plot of x^d for d in {2, 3, 4} on the interval [-1, 2]')\n",
    "plt.legend()\n",
    "\n",
    "plt.grid(True)\n",
    "plt.show()"
   ]
  },
  {
   "cell_type": "markdown",
   "metadata": {},
   "source": [
    "Numpy Broadcasting "
   ]
  },
  {
   "cell_type": "code",
   "execution_count": 17,
   "metadata": {},
   "outputs": [
    {
     "data": {
      "text/plain": [
       "(array([-9., -7., -5., -3., -1.,  1.,  3.,  5.,  7.,  9.]),\n",
       " array([[ 0,  1,  2,  3],\n",
       "        [ 4,  5,  6,  7],\n",
       "        [ 8,  9, 10, 11]]))"
      ]
     },
     "execution_count": 17,
     "metadata": {},
     "output_type": "execute_result"
    }
   ],
   "source": [
    "#Question 15:\n",
    "\n",
    "array1 = np.arange(1,20, 2)\n",
    "\n",
    "mean_subtracted_array1 = array1 - np.mean(array1) #By doing brodcasting with numpy, we can subtract them even if there shapes are different (Respecting the rules seing in class)\n",
    "\n",
    "array2 = np.arange(12).reshape(3, 4) #We reshape the array to have 3 rows and 4 columns\n",
    "\n",
    "mean_subtracted_array1, array2"
   ]
  },
  {
   "cell_type": "code",
   "execution_count": 18,
   "metadata": {},
   "outputs": [
    {
     "name": "stdout",
     "output_type": "stream",
     "text": [
      "[[-4. -4. -4. -4.]\n",
      " [ 0.  0.  0.  0.]\n",
      " [ 4.  4.  4.  4.]]\n",
      "[[-1.5 -0.5  0.5  1.5]\n",
      " [-1.5 -0.5  0.5  1.5]\n",
      " [-1.5 -0.5  0.5  1.5]]\n"
     ]
    }
   ],
   "source": [
    "#Question 16:\n",
    "\n",
    "array = np.arange(12).reshape(3, 4)\n",
    "\n",
    "#Subtract the mean of each column from each element of the column\n",
    "column_mean = array.mean(axis=0)\n",
    "array_column_mean_subtracted = array - column_mean\n",
    "\n",
    "#Subtract the mean of each row from each element of the row\n",
    "row_mean = array.mean(axis=1)[:, None]\n",
    "array_row_mean_subtracted = array - row_mean\n",
    "\n",
    "print(array_column_mean_subtracted)\n",
    "print(array_row_mean_subtracted)"
   ]
  },
  {
   "cell_type": "code",
   "execution_count": 19,
   "metadata": {},
   "outputs": [
    {
     "name": "stdout",
     "output_type": "stream",
     "text": [
      "[[0 0 0 0 0]\n",
      " [0 1 2 3 4]\n",
      " [0 2 4 6 8]]\n"
     ]
    }
   ],
   "source": [
    "#Question 17:\n",
    "\n",
    "rows = np.arange(3).reshape(3, 1) \n",
    "\n",
    "cols = np.arange(5).reshape(1, 5) \n",
    "\n",
    "array = rows * cols #We can do the multiplication because of the broadcasting of numpy (3,1) * (1,5) = (3,5)\n",
    "\n",
    "print(array)"
   ]
  },
  {
   "cell_type": "code",
   "execution_count": 20,
   "metadata": {},
   "outputs": [
    {
     "name": "stdout",
     "output_type": "stream",
     "text": [
      "Adress of a 2370364718608\n",
      "Adress of b 2370364717488\n",
      "Adress of c 2370364718608\n",
      "Adress of a 2370364153680\n",
      "1001 1000 1000\n"
     ]
    }
   ],
   "source": [
    "#Question 18:\n",
    "\n",
    "a = 1000 \n",
    "print(\"Adress of a\", id(a))  \n",
    "\n",
    "b = 1000\n",
    "print(\"Adress of b\", id(b)) #The adress of b is 3072199849872\n",
    "\n",
    "c = a\n",
    "print(\"Adress of c\", id(c)) #The adress is the same as a \n",
    "\n",
    "a += 1\n",
    "\n",
    "print(\"Adress of a\", id(a)) #The memory adress of a has changed because we have changed the value of a\n",
    "\n",
    "print(a,b,c)  #a is 1001, b is 1000 and c is 1000 so the change only affect a, this is due to the immutability of integers in python\n",
    "\n"
   ]
  },
  {
   "cell_type": "code",
   "execution_count": 21,
   "metadata": {},
   "outputs": [
    {
     "name": "stdout",
     "output_type": "stream",
     "text": [
      "Address of a: 2370483356272\n",
      "Address of b: 2370364702032\n",
      "Address of c: 2370483356272\n",
      "Address of a: 2370483356272\n",
      "Adress of c: 2370483356272\n",
      "[1 2] [0 1] [1 2]\n"
     ]
    }
   ],
   "source": [
    "#Question 19:\n",
    "\n",
    "a = np.array([0, 1])\n",
    "print(\"Address of a:\", id(a))\n",
    "\n",
    "b = np.array([0, 1])\n",
    "print(\"Address of b:\", id(b))    #The adresses are different because they are two different arrays\n",
    "\n",
    "c = a\n",
    "print(\"Address of c:\", id(c))    #The adress of a is the same as a because we have assigned the value of a to c\n",
    "\n",
    "a += 1\n",
    "\n",
    "print(\"Address of a:\", id(a))    \n",
    "print(\"Adress of c:\", id(c))     #We see that the adress of a and c are still the same, this is because a and c refer to the same object in memory in NumPy\n",
    "\n",
    "print(a,b,c)\n"
   ]
  },
  {
   "cell_type": "code",
   "execution_count": 22,
   "metadata": {},
   "outputs": [
    {
     "name": "stdout",
     "output_type": "stream",
     "text": [
      "2\n",
      "1\n",
      "[2. 2. 2. 2. 2. 2. 2. 2. 2. 2.]\n",
      "[2. 2. 2. 2. 2. 2. 2. 2. 2. 2.]\n"
     ]
    }
   ],
   "source": [
    "#Question 20:\n",
    "\n",
    "def f(a):\n",
    "    a += 1\n",
    "    return a\n",
    "a = 1\n",
    "print(f(a)) #The output is 2 \n",
    "print(a) # a is still 1 because the function f is not changing the value of a\n",
    "\n",
    "a = np.ones(10)\n",
    "print(f(a)) #The output is [2. 2. 2. 2. 2. 2. 2. 2. 2. 2.] because we have added 1 to each element of the array\n",
    "print(a)\n",
    "#We see that the value of a changed after the function f because NumPy arrays are mutable objects and the function f is changing the value of the array in place\n",
    "#Exemple of passing by reference\n"
   ]
  },
  {
   "cell_type": "code",
   "execution_count": 23,
   "metadata": {},
   "outputs": [
    {
     "name": "stdout",
     "output_type": "stream",
     "text": [
      "a: [1. 1. 1. 1. 1. 1. 1. 1. 1. 1.]\n",
      "b: [1. 1. 1. 1. 1. 1. 1. 1. 1. 1.]\n",
      "a: [1. 1. 1. 1. 1. 1. 1. 1. 1. 1.]\n",
      "b: [1. 1. 1. 1. 1. 1. 1. 1. 1. 1.]\n",
      "False\n",
      "a: [1. 1. 1. 1. 1. 1. 1. 1. 1. 1.]\n",
      "a: [1. 1. 1. 1. 1. 1. 1. 1. 1. 1.]\n"
     ]
    }
   ],
   "source": [
    "#Question 21:\n",
    "\n",
    "\n",
    "a = np.zeros(10)\n",
    "b = np.ones(10)\n",
    "\n",
    "a = b\n",
    "print(\"a:\", a)  # a is [1. 1. 1. 1. 1. 1. 1. 1. 1. 1.]\n",
    "print(\"b:\", b)  # b is [1. 1. 1. 1. 1. 1. 1. 1. 1. 1.]\n",
    "# a and b point to the same array and are the same\n",
    "\n",
    "a = np.zeros(10) \n",
    "a[:] = b\n",
    "print(\"a:\", a)  # a is [1. 1. 1. 1. 1. 1. 1. 1. 1. 1.]\n",
    "print(\"b:\", b)  # b is [1. 1. 1. 1. 1. 1. 1. 1. 1. 1.]\n",
    "print(a is b)  # False, a and b are different arrays, it just copies the content of b without changing the reference of a\n",
    "\n",
    "\n",
    "a = np.zeros(10)  \n",
    "a = a + 1\n",
    "print(\"a:\", a)  # a is [1. 1. 1. 1. 1. 1. 1. 1. 1. 1.] \n",
    "#It is because we have created a new array (a+1) and assigned it to a\n",
    "\n",
    "a = np.zeros(10)  \n",
    "a += 1\n",
    "print(\"a:\", a)  # a is [1. 1. 1. 1. 1. 1. 1. 1. 1. 1.] \n",
    "#It is different from the previous case because we are modifying the array in place no assigning a new array to a"
   ]
  }
 ],
 "metadata": {
  "kernelspec": {
   "display_name": "Python 3",
   "language": "python",
   "name": "python3"
  },
  "language_info": {
   "codemirror_mode": {
    "name": "ipython",
    "version": 3
   },
   "file_extension": ".py",
   "mimetype": "text/x-python",
   "name": "python",
   "nbconvert_exporter": "python",
   "pygments_lexer": "ipython3",
   "version": "3.11.9"
  }
 },
 "nbformat": 4,
 "nbformat_minor": 2
}
